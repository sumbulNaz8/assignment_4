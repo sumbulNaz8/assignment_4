{
  "nbformat": 4,
  "nbformat_minor": 0,
  "metadata": {
    "colab": {
      "provenance": [],
      "authorship_tag": "ABX9TyNzk+iy99WgIZMw+1ez974r",
      "include_colab_link": true
    },
    "kernelspec": {
      "name": "python3",
      "display_name": "Python 3"
    },
    "language_info": {
      "name": "python"
    }
  },
  "cells": [
    {
      "cell_type": "markdown",
      "metadata": {
        "id": "view-in-github",
        "colab_type": "text"
      },
      "source": [
        "<a href=\"https://colab.research.google.com/github/sumbulNaz8/assignment_4/blob/main/05_loops_control_flow.ipynb\" target=\"_parent\"><img src=\"https://colab.research.google.com/assets/colab-badge.svg\" alt=\"Open In Colab\"/></a>"
      ]
    },
    {
      "cell_type": "code",
      "execution_count": null,
      "metadata": {
        "colab": {
          "base_uri": "https://localhost:8080/"
        },
        "id": "RguqgjTjFFJx",
        "outputId": "8d4d5b48-d8d2-445c-dce3-81dd75e5befb"
      },
      "outputs": [
        {
          "output_type": "stream",
          "name": "stdout",
          "text": [
            "00_guess_my_number\n",
            "I am thinking of a number between 1 and 100....\n",
            "Enter a guess: 79\n",
            "Your guess is too high.\n",
            "Enter a guess: 50\n",
            "Your guess is too low.\n",
            "Enter a guess: 60\n",
            "Your guess is too low.\n",
            "Enter a guess: 70\n",
            "Your guess is too low.\n",
            "Enter a guess: 71\n",
            "Your guess is too low.\n",
            "Enter a guess: 72\n",
            "Your guess is too low.\n",
            "Enter a guess: 75\n",
            "Congratulation! The number was 75\n"
          ]
        }
      ],
      "source": [
        "import random\n",
        "\n",
        "print(\"00_guess_my_number\")\n",
        "\n",
        "def main():\n",
        "  secret_number = random.randint(1,100)\n",
        "  print(\"I am thinking of a number between 1 and 100....\")\n",
        "\n",
        "  guess = int(input(\"Enter a guess: \"))\n",
        "\n",
        "  while guess != secret_number:\n",
        "    if guess <  secret_number:\n",
        "      print(\"Your guess is too low.\")\n",
        "    else:\n",
        "      print(\"Your guess is too high.\")\n",
        "    guess = int(input(\"Enter a guess: \"))\n",
        "\n",
        "  print(f\"Congratulation! The number was {secret_number}\")\n",
        "\n",
        "if __name__== \"__main__\":\n",
        "  main()"
      ]
    },
    {
      "cell_type": "code",
      "source": [
        "print(\"01_fibonacci\")\n",
        "\n",
        "max_value = 10000\n",
        "\n",
        "def main():\n",
        "  a,b = 0,1\n",
        "  print(a,b, end = \" \")\n",
        "\n",
        "  while True:\n",
        "    c = a+b\n",
        "    if c >= max_value:\n",
        "      break\n",
        "    print(c, end=\" \")\n",
        "    a,b = b,c\n",
        "\n",
        "if __name__ == '__main__':\n",
        "    main()"
      ],
      "metadata": {
        "colab": {
          "base_uri": "https://localhost:8080/"
        },
        "id": "LYwix3HEF28h",
        "outputId": "85ac9982-1089-4837-b6f6-e7f4c980e58f"
      },
      "execution_count": null,
      "outputs": [
        {
          "output_type": "stream",
          "name": "stdout",
          "text": [
            "01_fibonacci\n",
            "0 1 1 2 3 5 8 13 21 34 55 89 144 233 377 610 987 1597 2584 4181 6765 "
          ]
        }
      ]
    },
    {
      "cell_type": "code",
      "source": [
        "print(\"02_print_events\")\n",
        "\n",
        "def main():\n",
        " for i in range(20):\n",
        "  print(i*2)\n",
        "\n",
        "if __name__ == '__main__':\n",
        "    main()"
      ],
      "metadata": {
        "colab": {
          "base_uri": "https://localhost:8080/"
        },
        "id": "ZtxxL5pMGDDj",
        "outputId": "4c63cfdd-21e5-430a-db49-59f78769b205"
      },
      "execution_count": null,
      "outputs": [
        {
          "output_type": "stream",
          "name": "stdout",
          "text": [
            "02_print_events\n",
            "0\n",
            "2\n",
            "4\n",
            "6\n",
            "8\n",
            "10\n",
            "12\n",
            "14\n",
            "16\n",
            "18\n",
            "20\n",
            "22\n",
            "24\n",
            "26\n",
            "28\n",
            "30\n",
            "32\n",
            "34\n",
            "36\n",
            "38\n"
          ]
        }
      ]
    },
    {
      "cell_type": "code",
      "source": [
        "print(\"03_wholesome_machine\")\n",
        "\n",
        "correct_affermation = \"I am capable of doing anything. I put my mind too.\"\n",
        "\n",
        "def main():\n",
        "  print(\"Welcome to the Wholesome Machine\")\n",
        "  while True:\n",
        "    user_input = input(\"Please type the following affermation:\" + correct_affermation)\n",
        "    if user_input == correct_affermation:\n",
        "     print(\"That's right! \")\n",
        "     break\n",
        "    else:\n",
        "      print(\"Hmmm That was not the affermation. Please Try Again!\")\n",
        "\n",
        "if __name__ == '__main__':\n",
        "  main()\n"
      ],
      "metadata": {
        "colab": {
          "base_uri": "https://localhost:8080/"
        },
        "id": "GPRghAYaGPMY",
        "outputId": "3efcb5ac-8067-4b38-c494-1ddde1cdce83"
      },
      "execution_count": null,
      "outputs": [
        {
          "output_type": "stream",
          "name": "stdout",
          "text": [
            "03_wholesome_machine\n",
            "Welcome to the Wholesome Machine\n",
            "Please type the following affermation:I am capable of doing anything. I put my mind too.I am capable of doing anything. I put my mind too.\n",
            "That's right! \n"
          ]
        }
      ]
    },
    {
      "cell_type": "code",
      "source": [
        "print(\"04_liftoff\")\n",
        "\n",
        "def main():\n",
        "  for i in range(10,0,-1):\n",
        "    print(i,end = \" \")\n",
        "  print(\"liftoff\")\n",
        "\n",
        "if __name__ == '__main__':\n",
        "    main()"
      ],
      "metadata": {
        "colab": {
          "base_uri": "https://localhost:8080/"
        },
        "id": "fgC2vgr6I-XI",
        "outputId": "063f34ad-85f3-46e4-b07c-569c5b21a3bc"
      },
      "execution_count": null,
      "outputs": [
        {
          "output_type": "stream",
          "name": "stdout",
          "text": [
            "04_liftoff\n",
            "10 9 8 7 6 5 4 3 2 1 liftoff\n"
          ]
        }
      ]
    },
    {
      "cell_type": "code",
      "source": [
        "print(\"05_double_it\")\n",
        "\n",
        "def main():\n",
        "  user_value = int(input(\"Enter a number: \"))\n",
        "  while user_value < 100:\n",
        "    user_value = user_value * 2\n",
        "    print(user_value)\n",
        "\n",
        "if __name__ == '__main__':\n",
        "    main()"
      ],
      "metadata": {
        "id": "8NBwo68PJGjX",
        "outputId": "ff29d718-d064-46df-fdd2-fbf02651132f",
        "colab": {
          "base_uri": "https://localhost:8080/"
        }
      },
      "execution_count": null,
      "outputs": [
        {
          "output_type": "stream",
          "name": "stdout",
          "text": [
            "05_double_it\n",
            "Enter a number: 5\n",
            "10\n",
            "20\n",
            "40\n",
            "80\n",
            "160\n"
          ]
        }
      ]
    }
  ]
}