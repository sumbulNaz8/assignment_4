{
  "nbformat": 4,
  "nbformat_minor": 0,
  "metadata": {
    "colab": {
      "provenance": [],
      "authorship_tag": "ABX9TyPxdII990Uq0uKziuApC8hw",
      "include_colab_link": true
    },
    "kernelspec": {
      "name": "python3",
      "display_name": "Python 3"
    },
    "language_info": {
      "name": "python"
    }
  },
  "cells": [
    {
      "cell_type": "markdown",
      "metadata": {
        "id": "view-in-github",
        "colab_type": "text"
      },
      "source": [
        "<a href=\"https://colab.research.google.com/github/sumbulNaz8/assignment_4/blob/main/02_intermediate.ipynb\" target=\"_parent\"><img src=\"https://colab.research.google.com/assets/colab-badge.svg\" alt=\"Open In Colab\"/></a>"
      ]
    },
    {
      "cell_type": "code",
      "execution_count": null,
      "metadata": {
        "colab": {
          "base_uri": "https://localhost:8080/"
        },
        "id": "_STdV-c-Jvoy",
        "outputId": "4e67844a-12cd-4f53-f944-92fbe8e53c1b"
      },
      "outputs": [
        {
          "output_type": "stream",
          "name": "stdout",
          "text": [
            "High Low Game\n",
            "Welcome to the High Low Game\n",
            "****************************\n",
            "Round 1\n",
            "Your number is 41\n",
            "Do you think your number is higher or lower than the computer's number? (higher/lower): 45\n",
            "That's incorrect. The computer's number was 68\n",
            "Your score is now 0\n",
            "\n",
            "Round 2\n",
            "Your number is 14\n",
            "Do you think your number is higher or lower than the computer's number? (higher/lower): 32\n",
            "That's incorrect. The computer's number was 45\n",
            "Your score is now 0\n",
            "\n",
            "Round 3\n",
            "Your number is 14\n",
            "Do you think your number is higher or lower than the computer's number? (higher/lower): 45\n",
            "That's incorrect. The computer's number was 16\n",
            "Your score is now 0\n",
            "\n",
            "Round 4\n",
            "Your number is 81\n",
            "Do you think your number is higher or lower than the computer's number? (higher/lower): 67\n",
            "That's incorrect. The computer's number was 92\n",
            "Your score is now 0\n",
            "\n",
            "Round 5\n",
            "Your number is 69\n",
            "Do you think your number is higher or lower than the computer's number? (higher/lower): 89\n",
            "That's incorrect. The computer's number was 47\n",
            "Your score is now 0\n",
            "\n",
            "Thanks for playing!\n"
          ]
        }
      ],
      "source": [
        "import random\n",
        "\n",
        "print(\"High Low Game\")\n",
        "\n",
        "rounds = 5  # Changed 'round' to 'rounds' to avoid conflict with built-in function 'round'\n",
        "\n",
        "def main():\n",
        "    print(\"Welcome to the High Low Game\")\n",
        "    print(\"****************************\")\n",
        "\n",
        "    score = 0  # Fixed: 'score' should be initialized here, not 'your_score'\n",
        "\n",
        "    for i in range(rounds):  # Use the updated variable name 'rounds'\n",
        "        print(\"Round\", i + 1)\n",
        "\n",
        "        computer_number = random.randint(1, 100)\n",
        "        your_number = random.randint(1, 100)\n",
        "        print(\"Your number is\", your_number)\n",
        "\n",
        "        choice = input(\"Do you think your number is higher or lower than the computer's number? (higher/lower): \").lower()\n",
        "\n",
        "        higher_and_correct = choice == \"higher\" and your_number > computer_number\n",
        "        lower_and_correct = choice == \"lower\" and your_number < computer_number\n",
        "\n",
        "        if higher_and_correct or lower_and_correct:\n",
        "            print(\"You were right! The computer's number was\", computer_number)\n",
        "            score += 1\n",
        "        else:\n",
        "            print(\"That's incorrect. The computer's number was\", computer_number)\n",
        "\n",
        "        print(\"Your score is now\", score)\n",
        "        print()\n",
        "\n",
        "    print(\"Thanks for playing!\")\n",
        "\n",
        "if __name__ == \"__main__\":\n",
        "    main()\n"
      ]
    },
    {
      "cell_type": "code",
      "source": [
        "print(\"Planetary Weight Calculator\")\n",
        "\n",
        "def main():\n",
        "    print(\"Welcome to the Planetary Weight Calculator\")\n",
        "    print(\"******************************************\")\n",
        "\n",
        "    earth_weight = float(input(\"Enter your weight on Earth (in kg): \"))\n",
        "\n",
        "    gravity_ratios = {\n",
        "        \"Mercury\": 0.38,\n",
        "        \"Venus\": 0.91,\n",
        "        \"Mars\": 0.38,\n",
        "        \"Jupiter\": 2.34,\n",
        "        \"Saturn\": 1.06,\n",
        "        \"Uranus\": 0.92,\n",
        "        \"Neptune\": 1.19\n",
        "    }\n",
        "\n",
        "    print(\"\\nSelect a planet:\")\n",
        "    for planet in gravity_ratios:\n",
        "        print(f'- {planet}')\n",
        "\n",
        "    planet_choice = input(\"Enter the name of the planet: \").title()\n",
        "\n",
        "    if planet_choice in gravity_ratios:\n",
        "        new_weight = earth_weight * gravity_ratios[planet_choice]\n",
        "        print(f\"Your weight on {planet_choice} is {new_weight:.2f} kg\")\n",
        "    else:\n",
        "        print(\"Invalid planet choice. Please make sure the spelling is correct.\")\n",
        "\n",
        "if __name__ == \"__main__\":\n",
        "    main()\n"
      ],
      "metadata": {
        "colab": {
          "base_uri": "https://localhost:8080/"
        },
        "id": "pORQn7JJKZRF",
        "outputId": "078b4a41-096d-4124-bca7-582131f8326f"
      },
      "execution_count": null,
      "outputs": [
        {
          "output_type": "stream",
          "name": "stdout",
          "text": [
            "Planetary Weight Calculator\n",
            "Welcome to the Planetary Weight Calculator\n",
            "******************************************\n",
            "Enter your weight on Earth (in kg): 23\n",
            "\n",
            "Select a planet:\n",
            "- Mercury\n",
            "- Venus\n",
            "- Mars\n",
            "- Jupiter\n",
            "- Saturn\n",
            "- Uranus\n",
            "- Neptune\n",
            "Enter the name of the planet: mars\n",
            "Your weight on Mars is 8.74 kg\n"
          ]
        }
      ]
    },
    {
      "cell_type": "code",
      "source": [
        "print(\"Lists and Dicts\")\n",
        "\n",
        "my_list = [\"apple\", \"mango\", \"orange\", \"pear\", \"peach\"]\n",
        "\n",
        "def access_element(my_list, index):\n",
        "    \"\"\"Return the element at the specified index, or an error message if out of range.\"\"\"\n",
        "    if 0 <= index < len(my_list):\n",
        "        return f'Element at index {index}: {my_list[index]}'\n",
        "    return \"Index out of range\"\n",
        "\n",
        "def modify_element(my_list, index, new_value):\n",
        "    \"\"\"Modifies the element at the specified index with the new value.\"\"\"\n",
        "    if 0 <= index < len(my_list):\n",
        "        old_value = my_list[index]\n",
        "        my_list[index] = new_value\n",
        "        return f\"Element at index {index} modified from {old_value} to {new_value}\"\n",
        "    return \"Index out of range\"\n",
        "\n",
        "def slice_list(my_list, start, end):\n",
        "    \"\"\"Return a new list containing the elements from the start index to the end index (exclusive).\"\"\"\n",
        "    if 0 <= start < len(my_list) and 0 <= end <= len(my_list) and start < end:\n",
        "        return f'Sliced list: {my_list[start:end]}'\n",
        "    return \"Invalid slice indices!\"\n",
        "\n",
        "def list_game():\n",
        "    print(\"\\nWelcome to the list manipulation game!\")\n",
        "\n",
        "    while True:\n",
        "        print(\"\\nCurrent list:\", my_list)\n",
        "        print(\"Select an operation:\")\n",
        "        print(\"1. Access Element\")\n",
        "        print(\"2. Modify Element\")\n",
        "        print(\"3. Slice List\")\n",
        "        print(\"4. Quit\")\n",
        "\n",
        "        choice = input(\"Enter your choice (1-4): \")\n",
        "\n",
        "        if choice == \"1\":\n",
        "            index = int(input(\"Enter the index of the element you want to access: \"))\n",
        "            print(access_element(my_list, index))\n",
        "        elif choice == \"2\":\n",
        "            index = int(input(\"Enter the index of the element you want to modify: \"))\n",
        "            new_value = input(\"Enter the new value for the element: \")\n",
        "            print(modify_element(my_list, index, new_value))\n",
        "        elif choice == \"3\":\n",
        "            start = int(input(\"Enter the start index for the slice: \"))\n",
        "            end = int(input(\"Enter the end index for the slice: \"))\n",
        "            print(slice_list(my_list, start, end))\n",
        "        elif choice == \"4\":\n",
        "            print(\"Exiting the game. Thanks for playing!\")\n",
        "            break\n",
        "        else:\n",
        "            print(\"Invalid choice! Please enter a number between 1 and 4.\")\n",
        "\n",
        "if __name__ == \"__main__\":\n",
        "    list_game()\n"
      ],
      "metadata": {
        "colab": {
          "base_uri": "https://localhost:8080/"
        },
        "id": "VIahd6ojK8-k",
        "outputId": "cde34d8b-7ee9-4d45-b95d-c08107b76e33"
      },
      "execution_count": null,
      "outputs": [
        {
          "output_type": "stream",
          "name": "stdout",
          "text": [
            "Lists and Dicts\n",
            "\n",
            "Welcome to the list manipulation game!\n",
            "\n",
            "Current list: ['apple', 'mango', 'orange', 'pear', 'peach']\n",
            "Select an operation:\n",
            "1. Access Element\n",
            "2. Modify Element\n",
            "3. Slice List\n",
            "4. Quit\n",
            "Enter your choice (1-4): 4\n",
            "Exiting the game. Thanks for playing!\n"
          ]
        }
      ]
    }
  ]
}