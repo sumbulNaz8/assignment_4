{
  "nbformat": 4,
  "nbformat_minor": 0,
  "metadata": {
    "colab": {
      "provenance": [],
      "authorship_tag": "ABX9TyPP6iHQ97pPK/tSAqLzWBgg",
      "include_colab_link": true
    },
    "kernelspec": {
      "name": "python3",
      "display_name": "Python 3"
    },
    "language_info": {
      "name": "python"
    }
  },
  "cells": [
    {
      "cell_type": "markdown",
      "metadata": {
        "id": "view-in-github",
        "colab_type": "text"
      },
      "source": [
        "<a href=\"https://colab.research.google.com/github/sumbulNaz8/assignment_4/blob/main/04_dictionaries.ipynb\" target=\"_parent\"><img src=\"https://colab.research.google.com/assets/colab-badge.svg\" alt=\"Open In Colab\"/></a>"
      ]
    },
    {
      "cell_type": "code",
      "execution_count": null,
      "metadata": {
        "colab": {
          "base_uri": "https://localhost:8080/"
        },
        "id": "HVms5OwZB_Ea",
        "outputId": "3bc2e8ed-d3a4-4c1e-a2a3-eac113439b35"
      },
      "outputs": [
        {
          "output_type": "stream",
          "name": "stdout",
          "text": [
            "00_count_nums\n",
            "Enter a number (or type 'Exit' to quit): 1\n",
            "Enter a number (or type 'Exit' to quit): 23\n",
            "Enter a number (or type 'Exit' to quit): 3\n",
            "Enter a number (or type 'Exit' to quit): 56\n",
            "Enter a number (or type 'Exit' to quit): 67\n",
            "Enter a number (or type 'Exit' to quit): \n",
            "Please enter a valid number.\n",
            "Enter a number (or type 'Exit' to quit): exit\n",
            "\n",
            "Number counts:\n",
            "1 appears 1 times\n",
            "23 appears 1 times\n",
            "3 appears 1 times\n",
            "56 appears 1 times\n",
            "67 appears 1 times\n"
          ]
        }
      ],
      "source": [
        "print(\"00_count_nums\")\n",
        "\n",
        "def count_number():\n",
        "    count_dict = {}\n",
        "\n",
        "    while True:\n",
        "        user_input = input(\"Enter a number (or type 'Exit' to quit): \")\n",
        "\n",
        "        if user_input.title() == \"Exit\":\n",
        "            break\n",
        "\n",
        "        if user_input.isdigit():\n",
        "            num = int(user_input)\n",
        "            count_dict[num] = count_dict.get(num, 0) + 1\n",
        "        else:\n",
        "            print(\"Please enter a valid number.\")\n",
        "\n",
        "    return count_dict\n",
        "\n",
        "def display_count(count_dict):\n",
        "    print(\"\\nNumber counts:\")\n",
        "    for key, value in count_dict.items():\n",
        "        print(f\"{key} appears {value} times\")\n",
        "\n",
        "if __name__ == \"__main__\":\n",
        "    result = count_number()\n",
        "    display_count(result)"
      ]
    },
    {
      "cell_type": "code",
      "source": [
        "print(\"01_phonebook\")\n",
        "\n",
        "def add_contact(phonebook):\n",
        "    name = input(\"Enter contact name: \")\n",
        "    number = input(\"Enter contact number: \")\n",
        "\n",
        "    if name in phonebook:\n",
        "        print(f\"{name} already exists in the phonebook.\")\n",
        "    else:\n",
        "        phonebook[name] = number\n",
        "        print(f\"{name} added to the phonebook.\")\n",
        "def search_contact(phonebook):\n",
        "    name = input(\"Enter contact name to search: \")\n",
        "    if name in phonebook:\n",
        "        print(f\"{name}: {phonebook[name]}\")\n",
        "    else:\n",
        "        print(f\"{name} not found in the phonebook.\")\n",
        "\n",
        "def delete_contact(phonebook):\n",
        "    name = input(\"Enter contact name to delete: \")\n",
        "    if name in phonebook:\n",
        "        del phonebook[name]\n",
        "        print(f\"{name} deleted from the phonebook.\")\n",
        "    else:\n",
        "        print(f\"{name} not found in the phonebook.\")\n",
        "\n",
        "def display_contacts(phonebook):\n",
        "    if phonebook:\n",
        "        print(\"Phonebook contacts:\")\n",
        "        for name, number in phonebook.items():\n",
        "            print(f\"{name}: {number}\")\n",
        "    else:\n",
        "        print(\"Phonebook is empty.\")\n",
        "\n",
        "if __name__ == \"__main__\":\n",
        "    phonebook = {}\n",
        "    while True:\n",
        "        print(\"\\nPhonebook Menu:\")\n",
        "        print(\"1. Add Contact\")\n",
        "        print(\"2. Search Contact\")\n",
        "        print(\"3. Delete Contact\")\n",
        "        print(\"4. Display Contacts\")\n",
        "        print(\"5. Exit\")\n",
        "\n",
        "        choice = input(\"Enter your choice (1-5): \")\n",
        "\n",
        "        if choice == '1':\n",
        "            add_contact(phonebook)\n",
        "        elif choice == '2':\n",
        "            search_contact(phonebook)\n",
        "        elif choice == '3':\n",
        "            delete_contact(phonebook)\n",
        "        elif choice == '4':\n",
        "            display_contacts(phonebook)\n",
        "        elif choice == '5':\n",
        "            print(\"Exiting the phonebook GOODBYE!.\")\n",
        "            break\n",
        "        else:\n",
        "            print(\"Invalid choice. Please try again.\")"
      ],
      "metadata": {
        "colab": {
          "base_uri": "https://localhost:8080/"
        },
        "id": "vBEDVCDOC9GA",
        "outputId": "2a7470a4-c514-4cc6-f2b9-aed26f1f26d3"
      },
      "execution_count": null,
      "outputs": [
        {
          "output_type": "stream",
          "name": "stdout",
          "text": [
            "01_phonebook\n",
            "\n",
            "Phonebook Menu:\n",
            "1. Add Contact\n",
            "2. Search Contact\n",
            "3. Delete Contact\n",
            "4. Display Contacts\n",
            "5. Exit\n",
            "Enter your choice (1-5): 3\n",
            "Enter contact name to delete: 5\n",
            "5 not found in the phonebook.\n",
            "\n",
            "Phonebook Menu:\n",
            "1. Add Contact\n",
            "2. Search Contact\n",
            "3. Delete Contact\n",
            "4. Display Contacts\n",
            "5. Exit\n",
            "Enter your choice (1-5): 5\n",
            "Exiting the phonebook GOODBYE!.\n"
          ]
        }
      ]
    },
    {
      "cell_type": "code",
      "source": [
        "print(\"02_pop_up_shop\")\n",
        "\n",
        "def calculate_total_cost():\n",
        "    fruit_prices = {\n",
        "        \"apple\": 0.5,\n",
        "        \"banana\": 6.0,\n",
        "        \"orange\": 10.0,\n",
        "        \"pear\": 12.0,\n",
        "        \"kiwi\": 8.0,\n",
        "        \"mango\": 15.0,\n",
        "    }\n",
        "\n",
        "    total_cost = 0\n",
        "\n",
        "    for fruit, price in fruit_prices.items():\n",
        "        while True:\n",
        "            try:\n",
        "                quantity = int(input(f\"How many {fruit}s do you want?: \"))\n",
        "                if quantity < 0:\n",
        "                    print(\"Invalid input. Please enter a non-negative number.\")\n",
        "                    continue\n",
        "                fruit_total = price * quantity\n",
        "                print(f\"Cost for {quantity} {fruit}(s): ${fruit_total:.2f}\")\n",
        "                total_cost += fruit_total\n",
        "                break\n",
        "            except ValueError:\n",
        "                print(\"Invalid input. Please enter a valid number.\")\n",
        "\n",
        "    print(f\"\\nTotal cost for all fruits: ${total_cost:.2f}\")\n",
        "\n",
        "\n",
        "if __name__ == \"__main__\":\n",
        "    calculate_total_cost()\n"
      ],
      "metadata": {
        "colab": {
          "base_uri": "https://localhost:8080/"
        },
        "id": "-cSExHxNDfVF",
        "outputId": "33903199-b4f6-4840-bf28-cf183ee62b72"
      },
      "execution_count": null,
      "outputs": [
        {
          "output_type": "stream",
          "name": "stdout",
          "text": [
            "02_pop_up_shop\n",
            "How many apples do you want?: 6\n",
            "Cost for 6 apple(s): $3.00\n",
            "How many bananas do you want?: 3\n",
            "Cost for 3 banana(s): $18.00\n",
            "How many oranges do you want?: 4\n",
            "Cost for 4 orange(s): $40.00\n",
            "How many pears do you want?: 5\n",
            "Cost for 5 pear(s): $60.00\n",
            "How many kiwis do you want?: 6\n",
            "Cost for 6 kiwi(s): $48.00\n",
            "How many mangos do you want?: 7\n",
            "Cost for 7 mango(s): $105.00\n",
            "\n",
            "Total cost for all fruits: $274.00\n"
          ]
        }
      ]
    },
    {
      "cell_type": "code",
      "source": [
        "print(\"03_powerful_passwords\")\n",
        "\n",
        "import hashlib\n",
        "\n",
        "def hash_password(password):\n",
        "    return hashlib.sha256(password.encode()).hexdigest()\n",
        "\n",
        "stored_logins = {\n",
        "    \"user@example.com\": hash_password(\"password123\"),\n",
        "    \"admin@example.com\": hash_password(\"adminpass\"),\n",
        "}\n",
        "\n",
        "def login (email,password):\n",
        "    if email in stored_logins:\n",
        "        return stored_logins[email] == hash_password(password)\n",
        "    return False\n",
        "\n",
        "if __name__ == \"__main__\":\n",
        "    email = input(\"Enter your email: \")\n",
        "    password = input(\"Enter your password: \")\n",
        "\n",
        "    if login(email, password):\n",
        "        print(\"Login successful!\")\n",
        "    else:\n",
        "        print(\"Invalid email or password.\")"
      ],
      "metadata": {
        "colab": {
          "base_uri": "https://localhost:8080/"
        },
        "id": "w4-KeDuhD9T3",
        "outputId": "6b6104ac-6194-428b-80f2-a170bab9d706"
      },
      "execution_count": null,
      "outputs": [
        {
          "output_type": "stream",
          "name": "stdout",
          "text": [
            "03_powerful_passwords\n",
            "Enter your email: user@example.com\n",
            "Enter your password: password123\n",
            "Login successful!\n"
          ]
        }
      ]
    }
  ]
}